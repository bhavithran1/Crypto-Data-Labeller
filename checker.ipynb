{
 "cells": [
  {
   "cell_type": "code",
   "execution_count": 1,
   "metadata": {},
   "outputs": [
    {
     "data": {
      "text/html": [
       "<div>\n",
       "<style scoped>\n",
       "    .dataframe tbody tr th:only-of-type {\n",
       "        vertical-align: middle;\n",
       "    }\n",
       "\n",
       "    .dataframe tbody tr th {\n",
       "        vertical-align: top;\n",
       "    }\n",
       "\n",
       "    .dataframe thead th {\n",
       "        text-align: right;\n",
       "    }\n",
       "</style>\n",
       "<table border=\"1\" class=\"dataframe\">\n",
       "  <thead>\n",
       "    <tr style=\"text-align: right;\">\n",
       "      <th></th>\n",
       "      <th>Open</th>\n",
       "      <th>High</th>\n",
       "      <th>Low</th>\n",
       "      <th>Close</th>\n",
       "      <th>Volume</th>\n",
       "    </tr>\n",
       "  </thead>\n",
       "  <tbody>\n",
       "    <tr>\n",
       "      <th>437033</th>\n",
       "      <td>20733.40</td>\n",
       "      <td>20737.60</td>\n",
       "      <td>20714.55</td>\n",
       "      <td>20723.58</td>\n",
       "      <td>296.43190</td>\n",
       "    </tr>\n",
       "    <tr>\n",
       "      <th>437034</th>\n",
       "      <td>20723.58</td>\n",
       "      <td>20731.71</td>\n",
       "      <td>20722.04</td>\n",
       "      <td>20728.18</td>\n",
       "      <td>130.95576</td>\n",
       "    </tr>\n",
       "    <tr>\n",
       "      <th>437035</th>\n",
       "      <td>20729.21</td>\n",
       "      <td>20733.84</td>\n",
       "      <td>20726.66</td>\n",
       "      <td>20729.99</td>\n",
       "      <td>102.02255</td>\n",
       "    </tr>\n",
       "    <tr>\n",
       "      <th>437036</th>\n",
       "      <td>20730.00</td>\n",
       "      <td>20736.31</td>\n",
       "      <td>20728.14</td>\n",
       "      <td>20730.54</td>\n",
       "      <td>128.59032</td>\n",
       "    </tr>\n",
       "    <tr>\n",
       "      <th>437037</th>\n",
       "      <td>20731.53</td>\n",
       "      <td>20738.50</td>\n",
       "      <td>20726.88</td>\n",
       "      <td>20728.70</td>\n",
       "      <td>239.28596</td>\n",
       "    </tr>\n",
       "  </tbody>\n",
       "</table>\n",
       "</div>"
      ],
      "text/plain": [
       "            Open      High       Low     Close     Volume\n",
       "437033  20733.40  20737.60  20714.55  20723.58  296.43190\n",
       "437034  20723.58  20731.71  20722.04  20728.18  130.95576\n",
       "437035  20729.21  20733.84  20726.66  20729.99  102.02255\n",
       "437036  20730.00  20736.31  20728.14  20730.54  128.59032\n",
       "437037  20731.53  20738.50  20726.88  20728.70  239.28596"
      ]
     },
     "execution_count": 1,
     "metadata": {},
     "output_type": "execute_result"
    }
   ],
   "source": [
    "import pandas as pd\n",
    "\n",
    "data = pd.read_csv('product.csv')\n",
    "labels = data.pop('labels')\n",
    "\n",
    "keep_cols = ['Open', 'High', 'Low', 'Close', 'Volume']\n",
    "data = data[data.columns.intersection(keep_cols)]\n",
    "\n",
    "#data['date'] = pd.to_datetime(data['date'])\n",
    "#data = data.drop(columns='date') ## set_index\n",
    "data.tail()"
   ]
  },
  {
   "cell_type": "code",
   "execution_count": 2,
   "metadata": {},
   "outputs": [
    {
     "name": "stdout",
     "output_type": "stream",
     "text": [
      "labels\n",
      " 0    388717\n",
      "-1     29291\n",
      " 1     19030\n",
      "Name: count, dtype: int64\n"
     ]
    },
    {
     "data": {
      "text/plain": [
       "<Axes: xlabel='labels'>"
      ]
     },
     "execution_count": 2,
     "metadata": {},
     "output_type": "execute_result"
    },
    {
     "data": {
      "image/png": "[encoded data removed]",
      "text/plain": [
       "<Figure size 640x480 with 1 Axes>"
      ]
     },
     "metadata": {},
     "output_type": "display_data"
    }
   ],
   "source": [
    "labels.to_csv('data/y.csv')\n",
    "print(labels.value_counts())\n",
    "labels.value_counts().plot.bar()"
   ]
  },
  {
   "cell_type": "code",
   "execution_count": 3,
   "metadata": {},
   "outputs": [
    {
     "name": "stderr",
     "output_type": "stream",
     "text": [
      "c:\\Users\\bhavi\\miniconda3\\envs\\zalk\\lib\\site-packages\\tqdm\\auto.py:21: TqdmWarning: IProgress not found. Please update jupyter and ipywidgets. See https://ipywidgets.readthedocs.io/en/stable/user_install.html\n",
      "  from .autonotebook import tqdm as notebook_tqdm\n",
      "C:\\Users\\bhavi\\AppData\\Local\\Temp\\ipykernel_11424\\1191146953.py:28: UserWarning: Data index is not datetime. Assuming simple periods, but `pd.DateTimeIndex` is advised.\n",
      "  bt = Backtest(data, Boltning, cash=1000000, commission=.002)\n"
     ]
    },
    {
     "name": "stdout",
     "output_type": "stream",
     "text": [
      "Start                                     0.0\n",
      "End                                  437037.0\n",
      "Duration                             437037.0\n",
      "Exposure Time [%]                   32.974021\n",
      "Equity Final [$]                32333010.1697\n",
      "Equity Peak [$]                 32333010.1697\n",
      "Return [%]                        3133.301017\n",
      "Buy & Hold Return [%]              -55.259623\n",
      "Return (Ann.) [%]                         0.0\n",
      "Volatility (Ann.) [%]                     NaN\n",
      "Sharpe Ratio                              NaN\n",
      "Sortino Ratio                             NaN\n",
      "Calmar Ratio                              0.0\n",
      "Max. Drawdown [%]                   -4.969461\n",
      "Avg. Drawdown [%]                   -0.120703\n",
      "Max. Drawdown Duration                 7685.0\n",
      "Avg. Drawdown Duration              32.852052\n",
      "# Trades                              33062.0\n",
      "Win Rate [%]                        99.204525\n",
      "Best Trade [%]                       3.933261\n",
      "Worst Trade [%]                     -4.292396\n",
      "Avg. Trade [%]                       3.670233\n",
      "Max. Trade Duration                   10661.0\n",
      "Avg. Trade Duration                364.081181\n",
      "Profit Factor                      118.580034\n",
      "Expectancy [%]                       3.673336\n",
      "SQN                                509.901068\n",
      "_strategy                            Boltning\n",
      "_equity_curve                           Eq...\n",
      "_trades                          Size  Ent...\n",
      "dtype: object\n"
     ]
    },
    {
     "data": {
      "text/html": [
       "<div style=\"display: table;\"><div style=\"display: table-row;\"><div style=\"display: table-cell;\"><b title=\"bokeh.models.layouts.Row\">Row</b>(</div><div style=\"display: table-cell;\">id&nbsp;=&nbsp;'1473', <span id=\"2191\" style=\"cursor: pointer;\">&hellip;)</span></div></div><div class=\"2190\" style=\"display: none;\"><div style=\"display: table-cell;\"></div><div style=\"display: table-cell;\">align&nbsp;=&nbsp;'start',</div></div><div class=\"2190\" style=\"display: none;\"><div style=\"display: table-cell;\"></div><div style=\"display: table-cell;\">aspect_ratio&nbsp;=&nbsp;None,</div></div><div class=\"2190\" style=\"display: none;\"><div style=\"display: table-cell;\"></div><div style=\"display: table-cell;\">background&nbsp;=&nbsp;None,</div></div><div class=\"2190\" style=\"display: none;\"><div style=\"display: table-cell;\"></div><div style=\"display: table-cell;\">children&nbsp;=&nbsp;[GridBox(id='1470', ...), ToolbarBox(id='1472', ...)],</div></div><div class=\"2190\" style=\"display: none;\"><div style=\"display: table-cell;\"></div><div style=\"display: table-cell;\">cols&nbsp;=&nbsp;'auto',</div></div><div class=\"2190\" style=\"display: none;\"><div style=\"display: table-cell;\"></div><div style=\"display: table-cell;\">css_classes&nbsp;=&nbsp;[],</div></div><div class=\"2190\" style=\"display: none;\"><div style=\"display: table-cell;\"></div><div style=\"display: table-cell;\">disabled&nbsp;=&nbsp;False,</div></div><div class=\"2190\" style=\"display: none;\"><div style=\"display: table-cell;\"></div><div style=\"display: table-cell;\">height&nbsp;=&nbsp;None,</div></div><div class=\"2190\" style=\"display: none;\"><div style=\"display: table-cell;\"></div><div style=\"display: table-cell;\">height_policy&nbsp;=&nbsp;'auto',</div></div><div class=\"2190\" style=\"display: none;\"><div style=\"display: table-cell;\"></div><div style=\"display: table-cell;\">js_event_callbacks&nbsp;=&nbsp;{},</div></div><div class=\"2190\" style=\"display: none;\"><div style=\"display: table-cell;\"></div><div style=\"display: table-cell;\">js_property_callbacks&nbsp;=&nbsp;{},</div></div><div class=\"2190\" style=\"display: none;\"><div style=\"display: table-cell;\"></div><div style=\"display: table-cell;\">margin&nbsp;=&nbsp;(0, 0, 0, 0),</div></div><div class=\"2190\" style=\"display: none;\"><div style=\"display: table-cell;\"></div><div style=\"display: table-cell;\">max_height&nbsp;=&nbsp;None,</div></div><div class=\"2190\" style=\"display: none;\"><div style=\"display: table-cell;\"></div><div style=\"display: table-cell;\">max_width&nbsp;=&nbsp;None,</div></div><div class=\"2190\" style=\"display: none;\"><div style=\"display: table-cell;\"></div><div style=\"display: table-cell;\">min_height&nbsp;=&nbsp;None,</div></div><div class=\"2190\" style=\"display: none;\"><div style=\"display: table-cell;\"></div><div style=\"display: table-cell;\">min_width&nbsp;=&nbsp;None,</div></div><div class=\"2190\" style=\"display: none;\"><div style=\"display: table-cell;\"></div><div style=\"display: table-cell;\">name&nbsp;=&nbsp;None,</div></div><div class=\"2190\" style=\"display: none;\"><div style=\"display: table-cell;\"></div><div style=\"display: table-cell;\">sizing_mode&nbsp;=&nbsp;'stretch_width',</div></div><div class=\"2190\" style=\"display: none;\"><div style=\"display: table-cell;\"></div><div style=\"display: table-cell;\">spacing&nbsp;=&nbsp;0,</div></div><div class=\"2190\" style=\"display: none;\"><div style=\"display: table-cell;\"></div><div style=\"display: table-cell;\">subscribed_events&nbsp;=&nbsp;[],</div></div><div class=\"2190\" style=\"display: none;\"><div style=\"display: table-cell;\"></div><div style=\"display: table-cell;\">syncable&nbsp;=&nbsp;True,</div></div><div class=\"2190\" style=\"display: none;\"><div style=\"display: table-cell;\"></div><div style=\"display: table-cell;\">tags&nbsp;=&nbsp;[],</div></div><div class=\"2190\" style=\"display: none;\"><div style=\"display: table-cell;\"></div><div style=\"display: table-cell;\">visible&nbsp;=&nbsp;True,</div></div><div class=\"2190\" style=\"display: none;\"><div style=\"display: table-cell;\"></div><div style=\"display: table-cell;\">width&nbsp;=&nbsp;None,</div></div><div class=\"2190\" style=\"display: none;\"><div style=\"display: table-cell;\"></div><div style=\"display: table-cell;\">width_policy&nbsp;=&nbsp;'auto')</div></div></div>\n",
       "<script>\n",
       "(function() {\n",
       "  let expanded = false;\n",
       "  const ellipsis = document.getElementById(\"2191\");\n",
       "  ellipsis.addEventListener(\"click\", function() {\n",
       "    const rows = document.getElementsByClassName(\"2190\");\n",
       "    for (let i = 0; i < rows.length; i++) {\n",
       "      const el = rows[i];\n",
       "      el.style.display = expanded ? \"none\" : \"table-row\";\n",
       "    }\n",
       "    ellipsis.innerHTML = expanded ? \"&hellip;)\" : \"&lsaquo;&lsaquo;&lsaquo;\";\n",
       "    expanded = !expanded;\n",
       "  });\n",
       "})();\n",
       "</script>\n"
      ],
      "text/plain": [
       "Row(id='1473', ...)"
      ]
     },
     "execution_count": 3,
     "metadata": {},
     "output_type": "execute_result"
    }
   ],
   "source": [
    "from backtesting import  Strategy, Backtest\n",
    "\n",
    "## For extra TA indicators\n",
    "def I_helper(series): return series\n",
    "\n",
    "class Boltning(Strategy):\n",
    "    \n",
    "    def init(self):\n",
    "\n",
    "        self.bare_prediction = pd.read_csv('data/y.csv')\n",
    "        self.prediction  = self.I(I_helper, self.bare_prediction, name= 'prediction')\n",
    "        self.prediction = self.prediction[-1]\n",
    "\n",
    "    def next(self):\n",
    "        price = self.data.Close[-1]\n",
    "        ## print(price, self.prediction[-1])\n",
    "\n",
    "\n",
    "        if self.prediction[-1] == 1:\n",
    "            self.buy(size= 1,sl=0.96*price, tp=1.04*price)\n",
    "\n",
    "        elif self.prediction[-1] == -1:\n",
    "            self.buy(size=-1,sl=1.04*price, tp=0.96*price)\n",
    "\n",
    "\n",
    "\n",
    "## Make sure the sl/tp matches from the stategy file....\n",
    "bt = Backtest(data, Boltning, cash=1000000, commission=.002)\n",
    "stats = bt.run()\n",
    "print(stats)\n",
    "bt.plot()"
   ]
  }
 ],
 "metadata": {
  "kernelspec": {
   "display_name": "zalk",
   "language": "python",
   "name": "python3"
  },
  "language_info": {
   "codemirror_mode": {
    "name": "ipython",
    "version": 3
   },
   "file_extension": ".py",
   "mimetype": "text/x-python",
   "name": "python",
   "nbconvert_exporter": "python",
   "pygments_lexer": "ipython3",
   "version": "3.9.16"
  },
  "orig_nbformat": 4,
  "vscode": {
   "interpreter": {
    "hash": "e26adb3749953053fcb2e5c94f6c2751c88d808ffe812f002d9172c42c53d024"
   }
  }
 },
 "nbformat": 4,
 "nbformat_minor": 2
}
