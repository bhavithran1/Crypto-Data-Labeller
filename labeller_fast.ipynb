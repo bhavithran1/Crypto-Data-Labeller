{
 "cells": [
  {
   "cell_type": "code",
   "execution_count": 10,
   "metadata": {},
   "outputs": [],
   "source": [
    "import numpy as np\n",
    "import pandas as pd \n",
    "from data.lib import dormant_data"
   ]
  },
  {
   "cell_type": "code",
   "execution_count": 11,
   "metadata": {},
   "outputs": [
    {
     "name": "stdout",
     "output_type": "stream",
     "text": [
      "              \n",
      "    ---> Does df have NaN values ? == False\n",
      "    ---> Total Rows In The Data  ? == 436764\n",
      "            \n"
     ]
    },
    {
     "data": {
      "text/html": [
       "<div>\n",
       "<style scoped>\n",
       "    .dataframe tbody tr th:only-of-type {\n",
       "        vertical-align: middle;\n",
       "    }\n",
       "\n",
       "    .dataframe tbody tr th {\n",
       "        vertical-align: top;\n",
       "    }\n",
       "\n",
       "    .dataframe thead th {\n",
       "        text-align: right;\n",
       "    }\n",
       "</style>\n",
       "<table border=\"1\" class=\"dataframe\">\n",
       "  <thead>\n",
       "    <tr style=\"text-align: right;\">\n",
       "      <th></th>\n",
       "      <th>Open</th>\n",
       "      <th>High</th>\n",
       "      <th>Low</th>\n",
       "      <th>Close</th>\n",
       "      <th>Volume</th>\n",
       "    </tr>\n",
       "    <tr>\n",
       "      <th>date</th>\n",
       "      <th></th>\n",
       "      <th></th>\n",
       "      <th></th>\n",
       "      <th></th>\n",
       "      <th></th>\n",
       "    </tr>\n",
       "  </thead>\n",
       "  <tbody>\n",
       "    <tr>\n",
       "      <th>2021-01-01 00:01:00</th>\n",
       "      <td>28961.669922</td>\n",
       "      <td>29017.500000</td>\n",
       "      <td>28961.009766</td>\n",
       "      <td>29009.910156</td>\n",
       "      <td>58.477501</td>\n",
       "    </tr>\n",
       "    <tr>\n",
       "      <th>2021-01-01 00:02:00</th>\n",
       "      <td>29009.539062</td>\n",
       "      <td>29016.710938</td>\n",
       "      <td>28973.580078</td>\n",
       "      <td>28989.300781</td>\n",
       "      <td>42.470329</td>\n",
       "    </tr>\n",
       "    <tr>\n",
       "      <th>2021-01-01 00:03:00</th>\n",
       "      <td>28989.679688</td>\n",
       "      <td>28999.849609</td>\n",
       "      <td>28972.330078</td>\n",
       "      <td>28982.689453</td>\n",
       "      <td>30.360678</td>\n",
       "    </tr>\n",
       "    <tr>\n",
       "      <th>2021-01-01 00:04:00</th>\n",
       "      <td>28982.669922</td>\n",
       "      <td>28995.929688</td>\n",
       "      <td>28971.800781</td>\n",
       "      <td>28975.650391</td>\n",
       "      <td>24.124338</td>\n",
       "    </tr>\n",
       "    <tr>\n",
       "      <th>2021-01-01 00:05:00</th>\n",
       "      <td>28975.650391</td>\n",
       "      <td>28979.529297</td>\n",
       "      <td>28933.160156</td>\n",
       "      <td>28937.109375</td>\n",
       "      <td>22.396013</td>\n",
       "    </tr>\n",
       "  </tbody>\n",
       "</table>\n",
       "</div>"
      ],
      "text/plain": [
       "                             Open          High           Low         Close  \\\n",
       "date                                                                          \n",
       "2021-01-01 00:01:00  28961.669922  29017.500000  28961.009766  29009.910156   \n",
       "2021-01-01 00:02:00  29009.539062  29016.710938  28973.580078  28989.300781   \n",
       "2021-01-01 00:03:00  28989.679688  28999.849609  28972.330078  28982.689453   \n",
       "2021-01-01 00:04:00  28982.669922  28995.929688  28971.800781  28975.650391   \n",
       "2021-01-01 00:05:00  28975.650391  28979.529297  28933.160156  28937.109375   \n",
       "\n",
       "                        Volume  \n",
       "date                            \n",
       "2021-01-01 00:01:00  58.477501  \n",
       "2021-01-01 00:02:00  42.470329  \n",
       "2021-01-01 00:03:00  30.360678  \n",
       "2021-01-01 00:04:00  24.124338  \n",
       "2021-01-01 00:05:00  22.396013  "
      ]
     },
     "execution_count": 11,
     "metadata": {},
     "output_type": "execute_result"
    }
   ],
   "source": [
    "X = dormant_data(path='../../../ZALK/Data_sourcing/compressed/BTC-USDT.parquet',start_date ='2021-01-01 00:00:00',\n",
    "                 end_date='2021-11-01 00:00:00',datz=True)\n",
    "\n",
    "ori_df = X.copy()\n",
    "X = X.drop(columns=['quote_asset_volume','number_of_trades','taker_buy_base_asset_volume','taker_buy_quote_asset_volume'])\n",
    "\n",
    "X['date'] = pd.to_datetime(X['date'])\n",
    "X = X.set_index('date')\n",
    "X.columns = ['Open', 'High', 'Low', 'Close', 'Volume']\n",
    "X.head()"
   ]
  },
  {
   "cell_type": "code",
   "execution_count": 12,
   "metadata": {},
   "outputs": [],
   "source": [
    "def triple_barrier(price, ub, lb, vertical_barrier):\n",
    "    \"\"\"\n",
    "    Implements the Triple Barrier Method.\n",
    "    \n",
    "    Parameters:\n",
    "    price (pd.Series): A pandas series of prices.\n",
    "    ub (float): The upper barrier.\n",
    "    lb (float): The lower barrier.\n",
    "    vertical_barrier (pd.Series): A pandas series of vertical barriers.\n",
    "    \n",
    "    Returns:\n",
    "    pd.DataFrame: A pandas dataframe containing the exit events.\n",
    "    \"\"\"\n",
    "    \n",
    "    # Initialize the exit events dataframe\n",
    "    events = pd.DataFrame(index=price.index, columns=['stop_loss', 'take_profit'])\n",
    "    \n",
    "    # Loop over each row of the price series\n",
    "    for i in range(1, len(price)):\n",
    "        \n",
    "        # Compute the holding period for the position\n",
    "        holding_period = vertical_barrier[i] - price.index[i]\n",
    "        \n",
    "        # Define the upper and lower barriers for the current position\n",
    "        current_ub = price[i] * (1 + ub)\n",
    "        current_lb = price[i] * (1 - lb)\n",
    "        \n",
    "        # Set the stop loss and take profit levels\n",
    "        stop_loss   = np.nan\n",
    "        take_profit = np.nan\n",
    "        \n",
    "        # Check if the price hits the upper barrier\n",
    "        if price[i:i+holding_period].max() >= current_ub:\n",
    "            take_profit = 1\n",
    "        \n",
    "        # Check if the price hits the lower barrier\n",
    "        elif price[i:i+holding_period].min() <= current_lb:\n",
    "            stop_loss = -1\n",
    "        \n",
    "        # Store the exit events in the events dataframe\n",
    "        events.loc[price.index[i], 'take_profit'] = take_profit\n",
    "        events.loc[price.index[i], 'stop_loss'] = stop_loss\n",
    "        \n",
    "    return events"
   ]
  },
  {
   "cell_type": "code",
   "execution_count": 13,
   "metadata": {},
   "outputs": [],
   "source": [
    "price = X['Close'].reset_index(drop=True)\n",
    "\n",
    "# Define the upper and lower barriers and the vertical barrier\n",
    "ub = 0.04  ## Take-Profit\n",
    "lb = 0.04  ## Stop-Loss\n",
    "\n",
    "min = 720 ## 12 hours\n",
    "vertical_barrier = pd.Series(price.index + min)\n",
    "\n",
    "# Apply the Triple Barrier Method\n",
    "events = triple_barrier(price, ub, lb, vertical_barrier)"
   ]
  },
  {
   "cell_type": "code",
   "execution_count": 14,
   "metadata": {},
   "outputs": [
    {
     "data": {
      "text/plain": [
       " 0    291012\n",
       "-1     73784\n",
       " 1     71968\n",
       "Name: stop_loss, dtype: int64"
      ]
     },
     "execution_count": 14,
     "metadata": {},
     "output_type": "execute_result"
    }
   ],
   "source": [
    "events\n",
    "labels = events['stop_loss'].combine_first(events['take_profit'])\n",
    "labels = labels.fillna(0)\n",
    "labels.value_counts()"
   ]
  },
  {
   "cell_type": "code",
   "execution_count": 15,
   "metadata": {},
   "outputs": [],
   "source": [
    "X['labels'] = labels.to_numpy()\n",
    "X.to_csv('data/result.csv',index=False)"
   ]
  }
 ],
 "metadata": {
  "kernelspec": {
   "display_name": "zalk",
   "language": "python",
   "name": "python3"
  },
  "language_info": {
   "codemirror_mode": {
    "name": "ipython",
    "version": 3
   },
   "file_extension": ".py",
   "mimetype": "text/x-python",
   "name": "python",
   "nbconvert_exporter": "python",
   "pygments_lexer": "ipython3",
   "version": "3.9.16"
  },
  "orig_nbformat": 4,
  "vscode": {
   "interpreter": {
    "hash": "e26adb3749953053fcb2e5c94f6c2751c88d808ffe812f002d9172c42c53d024"
   }
  }
 },
 "nbformat": 4,
 "nbformat_minor": 2
}
